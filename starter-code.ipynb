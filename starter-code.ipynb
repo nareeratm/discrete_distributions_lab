{
 "cells": [
  {
   "cell_type": "markdown",
   "metadata": {},
   "source": [
    "# \"Fun with Loot Boxes\" Lab\n",
    "\n",
    "> Author: Caroline Schmitt, Matt Brems\n",
    "\n",
    "### Scenario:\n",
    "\n",
    "You're an analyst for [Zynga](https://en.wikipedia.org/wiki/Zynga), a gaming studio working on an event for an MMO (massively multiplayer online) game. This event is going to include **loot boxes**.\n",
    "\n",
    "<img src=\"https://vignette.wikia.nocookie.net/2007scape/images/0/06/Culinaromancer%27s_chest.png/revision/latest?cb=20180403231423\" alt=\"drawing\" width=\"150\"/> \n",
    "\n",
    "A loot box is basically a treasure chest in a game. This loot box can be opened to reveal a variety of items: some items are very rare and valuable, other items are common and less valuable. (You may consult [the esteemed Wikipedia](https://en.wikipedia.org/wiki/Loot_box) for a more extensive definition.)\n",
    "\n",
    "In our specific game, suppose that loot boxes can be obtained in one of two ways: \n",
    "- After every three hours of playing the game, a user will earn one loot box.\n",
    "- If the user wishes to purchase a loot box, they may pay $1 (in real money!) for a loot box.\n",
    "\n",
    "These loot boxes are very good for our business!\n",
    "- If a player earns a loot box, it means they are spending lots of time on the game. This often leads to advertisement revenue, they may tell their friends to join the game, etc.\n",
    "- If the player purchases a loot box, it means we've earned $1 from our customer.\n",
    "\n",
    "Suppose each loot box is opened to reveal either:\n",
    "- magical elixir (super rare, very valuable), or\n",
    "- nothing.\n",
    "\n",
    "Whether each loot box contains the elixir or nothing is **random**. Our boss wants some guidance on what sort of randomness to use on these loot boxes! \n",
    "- If the magical elixir is too rare, then users may not be motivated to try to get them, because they believe they'll never find the magical elixir.\n",
    "- If the magical elixir is too common, then users may not be motivated to try to get them, because the game has so much of the magical elixir that it isn't worthwhile to try to get it.\n",
    "\n",
    "However, our boss isn't a math-y type person! When explaining things to our boss, we need to explain the impact of our choices on the game as concretely as possible.\n",
    "\n",
    "### Version 1\n",
    "In our first version of the game, we'll say that loot boxes contain magical elixir 15% of the time and nothing 85% of the time.\n",
    "\n",
    "#### 1. Our boss asks, \"If a user buys 100 loot boxes, how many elixirs will they get?\" How would you respond?"
   ]
  },
  {
   "cell_type": "code",
   "execution_count": 113,
   "metadata": {},
   "outputs": [],
   "source": [
    "import random\n",
    "import numpy as np\n",
    "import matplotlib.pyplot as plt\n",
    "import scipy.stats as stats"
   ]
  },
  {
   "cell_type": "code",
   "execution_count": 114,
   "metadata": {},
   "outputs": [],
   "source": [
    "#Answer in-class: we can't guarantee how many elixirs one person would get, it's possible, although unlikely, that a\n",
    "#player who is very lucky gets 100 elixirs out of 100 loot boxes. It's also possible, though unlikely,\n",
    "#that a player who is very unlucky gets none.\n",
    "#The expected value is 15, but that does not in any way, mean every player gets 15 out of every 100 loot boxes."
   ]
  },
  {
   "cell_type": "code",
   "execution_count": 115,
   "metadata": {},
   "outputs": [
    {
     "name": "stdout",
     "output_type": "stream",
     "text": [
      "The expected number of elixirs from 100 loot boxes:15.0\n"
     ]
    }
   ],
   "source": [
    "#elixir_prob = 0.15\n",
    "#total_loot_boxes =100\n",
    "#PMF: probability mass function - discrete distribution function returning the prob that a random variables equals a specific value\n",
    "#CDF : cumulative - probability that a random variable is less than or equal to a given value\n",
    "#to a given value,\n",
    "    #discrete- a step function plt.step, it increases at each possible value of the random variable\n",
    "    #continuous -the integral of the PDF from neg infinity to the given value.\n",
    "#PDF: prob density func is continuous distr. func. returning the relative likelihood of a random variable taking on a given value.\n",
    "\n",
    "#in-class Ans: EV is the average outcome of an event if repeated many times. calc. by mult. each possible outcome by it's probability and summing the products together.\n",
    "#EVs helps predict long-term results in situations involving chance.\n",
    "\n",
    "#in-class function \n",
    "\n",
    "def calculate_elixir_ev(elixir_prob, num_boxes):\n",
    "    return elixir_prob*num_boxes\n",
    "\n",
    "#game parameters\n",
    "elixir_prob = 0.15\n",
    "non_prob =0.85\n",
    "num_boox =100\n",
    "\n",
    "expected_elixirs = calculate_elixir_ev(elixir_prob, num_boox)\n",
    "print(f\"The expected number of elixirs from {num_boox} loot boxes:{expected_elixirs}\")"
   ]
  },
  {
   "cell_type": "code",
   "execution_count": 116,
   "metadata": {},
   "outputs": [],
   "source": [
    "#EV and prob different;\n",
    "#prob measures the likelihood of a specific outcome occurring expressed as a number between 0 and 1 or percentage. \n",
    "\n",
    "#EV quantifies the average results over many trials. often expressed in a unit (items, dollars) rather than as a probability. "
   ]
  },
  {
   "cell_type": "markdown",
   "metadata": {},
   "source": [
    "#### 2. Our boss asks, \"How many loot boxes does someone have to purchase in order to definitely get elixir?\" How would you respond?"
   ]
  },
  {
   "cell_type": "code",
   "execution_count": 118,
   "metadata": {},
   "outputs": [],
   "source": [
    "#in-class answer:\n",
    "#Well, someone could theoretically purchase an infinite of loot boxes and never get an elixir. \n",
    "#We can't guarantee how many loot boxes one would need to purchase until they find an elixir.\n",
    "#BUT if each box has a 15% chance of obtaining an elixir regardless of previous loot box purchases or openings,\n",
    "#then, on average a user would need to open about 7 loot boxes to get an elixir.\n",
    "#BUT this is just an average some users will need fewer loot boxes to get an elixir and some will need more.\n",
    "#The actual number for any given user can vary widely due to the random nature of the process. "
   ]
  },
  {
   "cell_type": "markdown",
   "metadata": {},
   "source": [
    "#### 3. Our boss asks, \"If a user earns 100 loot boxes, what is the chance that a user gets more than 20 elixirs?\" This is a bit more complicated, so let's break it down before answering."
   ]
  },
  {
   "cell_type": "code",
   "execution_count": 120,
   "metadata": {},
   "outputs": [],
   "source": [
    "#note the word \"chance\""
   ]
  },
  {
   "cell_type": "markdown",
   "metadata": {},
   "source": [
    "#### 3a. Let's suppose my random variable $X$ counts up how many elixirs I observe out of my 100 loot boxes. Why is $X$ a discrete random variable?"
   ]
  },
  {
   "cell_type": "markdown",
   "metadata": {},
   "source": [
    "#Ans: X is a discrete random variable because it is a distinct, countable outcome in the sample. Success is getting an elixir and fail is not getting an elixir. We can't have 2 and a half or 3.7 boxes."
   ]
  },
  {
   "cell_type": "markdown",
   "metadata": {},
   "source": [
    "#### 3b. Recall our discrete distributions: discrete uniform, Bernoulli, binomial, Poisson. Let's suppose my random variable $X$ counts up how many elixirs I observe out of my 100 loot boxes. What distribution is best suited for $X$? Why?\n",
    "- Hint: It may help to consider getting the magical elixir a \"success\" and getting nothing a \"failure.\" "
   ]
  },
  {
   "cell_type": "code",
   "execution_count": 124,
   "metadata": {},
   "outputs": [],
   "source": [
    "# My Answer: Binomial distribution, because it is used when:\n",
    "# you have fixed $n$ trials,\n",
    "# each trial is independent of one another,\n",
    "# you have a constant probability of success $p$, and\n",
    "# you have a binary outcome. (Success/ or fail)\n",
    "\n",
    "#notes in-class\n",
    "#discrete uniform-each outcome is equally likely\n",
    "#note Bernoulli has number of successes in one trial .\n",
    "#poisson - related to binomial plus time"
   ]
  },
  {
   "cell_type": "markdown",
   "metadata": {},
   "source": [
    "#### 3c. Our boss asks, \"If a user earns 100 loot boxes, what is the chance that a user gets more than 20 elixirs?\" Use the probability mass function to answer the boss' question."
   ]
  },
  {
   "cell_type": "code",
   "execution_count": 126,
   "metadata": {},
   "outputs": [
    {
     "name": "stdout",
     "output_type": "stream",
     "text": [
      "0.06631976581888199\n",
      "0.06631976581888208\n",
      "The probability of getting more than 20 elixirs from 100 loot boxes is 0.0663\n"
     ]
    }
   ],
   "source": [
    "# Calculate the probability of getting more than 20 elixirs with pmf\n",
    "\n",
    "#summation, for loop -why? we have a range of values\n",
    "\n",
    "#My answer\n",
    "probability_more_than_20_pmf = 1 - sum(stats.binom.pmf(k, 100, 0.15) for k in range(21))\n",
    "print(probability_more_than_20_pmf) #Ans: 0.06631976581888199\n",
    "n=100\n",
    "p=0.15\n",
    "#in-class answer from Best\n",
    "X = stats.binom(n,p) # X is the binomial distribution\n",
    "P = 1 #counter to set the initial P\n",
    "for x in range(20+1):\n",
    "    P = P -X.pmf(x)\n",
    "\n",
    "#running for loop to subtract probability of getting \n",
    "#x elixirs where x is in 0,1,2,...20\n",
    "print(P)\n",
    "\n",
    "#another method in class\n",
    "def calc_el_prob():\n",
    "    return sum(stats.binom.pmf(x, n=100, p=0.15) for x in range(21, 101))\n",
    "\n",
    "result = calc_el_prob()\n",
    "print(f\"The probability of getting more than 20 elixirs from 100 loot boxes is {result:.4f}\")"
   ]
  },
  {
   "cell_type": "markdown",
   "metadata": {},
   "source": [
    "#### 3d. Our boss asks, \"If a user earns 100 loot boxes, what is the chance that a user gets more than 20 elixirs?\" Use the cumulative distribution function to answer the boss' question."
   ]
  },
  {
   "cell_type": "code",
   "execution_count": 128,
   "metadata": {},
   "outputs": [
    {
     "name": "stdout",
     "output_type": "stream",
     "text": [
      "0.06631976581888177\n",
      "The probability of getting more than 20 elixirs from cdf  100 loot boxes is 0.0663\n",
      "The probability of getting more than 20 elixirs from cdf  100 loot boxes is -92.37%.\n"
     ]
    }
   ],
   "source": [
    "# Probability elixir\n",
    "elixir_prob = 0.15\n",
    "\n",
    "# loot boxes\n",
    "total_loot_boxes = 100\n",
    "\n",
    "# probability of getting more than 20 elixirs with cdf\n",
    "probability_morethan_20 = 1 - stats.binom.cdf(20, total_loot_boxes, elixir_prob)\n",
    "\n",
    "print(probability_morethan_20)\n",
    "# Answer: 0.0663197658\n",
    "\n",
    "#in-class answer\n",
    "print(f\"The probability of getting more than 20 elixirs from cdf  100 loot boxes is {1- stats.binom.cdf(20, 100, 0.15):.4f}\")\n",
    "\n",
    "#or...\n",
    "print(f\"The probability of getting more than 20 elixirs from cdf  100 loot boxes is {1- stats.binom.cdf(20, 100, 0.15)*100:.2f}%.\")"
   ]
  },
  {
   "cell_type": "markdown",
   "metadata": {},
   "source": [
    "#### 3e. Our boss asks, \"If a user earns 100 loot boxes, what is the chance that a user gets more than 20 elixirs?\" Answer your boss' question. *Remember that your boss is not a math-y person!*"
   ]
  },
  {
   "cell_type": "code",
   "execution_count": 130,
   "metadata": {},
   "outputs": [],
   "source": [
    "#in-class answer: if users buy 100 loot boxes, there is about approx. 6.6% chance that they get more than 20 elixirs.\n",
    "\n",
    "#suppose 25,000 users currently active. if all 25,000 earned 100 loot boxes, we would expect 1650 of those users to get more than 20 elixirs. \n",
    "#my Answer: The probability is approximately 6.6% to get more than 20 elixirs if the users earned 100 loot boxes."
   ]
  },
  {
   "cell_type": "code",
   "execution_count": 131,
   "metadata": {},
   "outputs": [],
   "source": [
    "#25_000*0.066 is the expected users"
   ]
  },
  {
   "cell_type": "markdown",
   "metadata": {},
   "source": [
    "#### 4. Your boss wants to know how many people purchased how many loot boxes last month. \n",
    "> For example, last month, 70% of users did not purchase any loot boxes. 10% of people purchased one loot box. 5% of people purchased two loot boxes... and so on.\n",
    "\n",
    "#### 4a. Recall our discrete distributions: discrete uniform, Bernoulli, binomial, Poisson. Let's suppose my random variable $Y$ counts up how many loot boxes each person purchased through the game last month. What distribution is best suited for $Y$? Why?"
   ]
  },
  {
   "cell_type": "markdown",
   "metadata": {},
   "source": [
    "#Ans: The Poisson distribution is appropriate for an experiment counting the number of successes in a fixed interval, such as one month.\n",
    "#Answer in class: models the number of successes we observe in a fixed amount of time, not fixed amount of trials. "
   ]
  },
  {
   "cell_type": "code",
   "execution_count": 134,
   "metadata": {},
   "outputs": [],
   "source": [
    "#The poisson distribution is often used to model count data (discrete) especially when the events are relatively rare\n",
    "#and can occur any no . of times within the given interval.\n",
    "#it's flexible enough to handle the varying probabilities we see in the data unlike the discrete uniform or binomial distributions."
   ]
  },
  {
   "cell_type": "markdown",
   "metadata": {},
   "source": [
    "#### 4b. Suppose that, on average, your customers purchased 2.7 loot boxes last month. In order for your revenue to be at least $500,000, at least how many users would you need on your platform? (Round your answer up to the nearest thousand.) "
   ]
  },
  {
   "cell_type": "code",
   "execution_count": 136,
   "metadata": {},
   "outputs": [
    {
     "data": {
      "text/plain": [
       "185185.19"
      ]
     },
     "execution_count": 136,
     "metadata": {},
     "output_type": "execute_result"
    }
   ],
   "source": [
    "# given that onelootbox = 1$, each customer purchased 2.7 loot boxes last month, = $2.70/customer, revenue $500,000\n",
    "revenue=500_000\n",
    "av_purchase =2.7\n",
    "average_customer_rate = (revenue/av_purchase)\n",
    "round(average_customer_rate, 2)"
   ]
  },
  {
   "cell_type": "code",
   "execution_count": 137,
   "metadata": {},
   "outputs": [
    {
     "name": "stdout",
     "output_type": "stream",
     "text": [
      "Number of users needed: 185,186\n"
     ]
    }
   ],
   "source": [
    "#floor division to round the number\n",
    "result = int(revenue//av_purchase +1)\n",
    "print(f\"Number of users needed: {result:,}\") #or import math then math.ciel(rev/av_pur)"
   ]
  },
  {
   "cell_type": "code",
   "execution_count": 138,
   "metadata": {},
   "outputs": [
    {
     "data": {
      "text/plain": [
       "185186"
      ]
     },
     "execution_count": 138,
     "metadata": {},
     "output_type": "execute_result"
    }
   ],
   "source": [
    "#another way to round the number\n",
    "import math\n",
    "#round will round down effectively, so how do we round UP?\n",
    "math.ceil(result)"
   ]
  },
  {
   "cell_type": "markdown",
   "metadata": {},
   "source": [
    "#### 4c. Assume that your platform has the numer of users you mentioned in your last answer. Suppose that your platform calls anyone who purchases 5 or more loot boxes in a month a \"high value user.\" How much money do you expect to have earned from \"high value users?\" How about \"low value users?\""
   ]
  },
  {
   "cell_type": "code",
   "execution_count": 140,
   "metadata": {},
   "outputs": [
    {
     "name": "stdout",
     "output_type": "stream",
     "text": [
      "357047.65881089197\n",
      "142952.34118910803\n",
      "From the low value users, we expect to make $357047.66 \n",
      "From the high value users, we expect to make $142952.34 \n"
     ]
    }
   ],
   "source": [
    "# Set our total purchase amount to be 0\n",
    "total_purchase = 0\n",
    "# Check values from 0-4\n",
    "for x in range(4+1):\n",
    "    # How many users purchase y loot boxes? (rate = 2.7 loot boxes / month)\n",
    "    amount_distribution = stats.poisson(2.7)\n",
    "    prob = amount_distribution.pmf(x)\n",
    "    # How much money would we make from those people? (dollar amount * number of individual)\n",
    "    y = x*prob*result\n",
    "    # Add in the above quantity to total purchase\n",
    "    total_purchase += y\n",
    "# How much we expect to make from people buying 4 or fewer loot boxes (low value users)\n",
    "print(total_purchase)\n",
    "# How much we expect to make from people buying at least 5 loot boxes (high value users)\n",
    "print(500_000-total_purchase)\n",
    "print(f\"From the low value users, we expect to make ${total_purchase:.2f} \")\n",
    "print(f\"From the high value users, we expect to make ${(500_000-total_purchase):.2f} \")"
   ]
  },
  {
   "cell_type": "markdown",
   "metadata": {},
   "source": [
    "#### 4d. Suppose that you want to summarize how many people purchased how many loot boxes last month for your boss. Since your boss isn't math-y, what are 2-4 summary numbers you might use to summarize this for your boss? (Your answers will vary here - use your judgment!)"
   ]
  },
  {
   "cell_type": "code",
   "execution_count": 142,
   "metadata": {},
   "outputs": [],
   "source": [
    "# Answer in-class: Assuming the average number of loot boxes purchased per user is 2.7 \n",
    "#and each loot box is $1, \n",
    "#the approximate expected revenue made from low value users(purchased less than 5 boxes) and high value users(purchased 5 or more boxes) \n",
    "#are $357,000 and $142,900 respectively. \n",
    "\n",
    "#Summary numbers to report to the boss:\n",
    "#total 500,000 \n",
    "#counts of user types, \n",
    "#avergae no. of loot boxes purchased by users\n",
    "#total no of loot boxes purchased by user.\n",
    "#ratio of low value users to high value users"
   ]
  },
  {
   "cell_type": "markdown",
   "metadata": {},
   "source": [
    "#### 5. Your boss asks \"How many loot boxes does it take before someone gets their first elixir?\" Using `np.random.choice`, simulate how many loot boxes it takes somone to get their first elixir. \n",
    "- Start an empty list.\n",
    "- Use control flow to have someone open loot boxes repeatedly.\n",
    "- Once they open a loot box containing an elixir, record the number of loot boxes it took in the empty list.\n",
    "- Repeat this process 100,000 times. \n",
    "\n",
    "This simulates how long it takes for someone to open a loot box containing elixir. Share the 5th, 25th, 50th, 75th, and 95th percentiles.\n",
    "\n",
    "> You may find [this documentation](https://docs.scipy.org/doc/numpy/reference/generated/numpy.random.choice.html)  and [this documentation](https://docs.scipy.org/doc/numpy/reference/generated/numpy.percentile.html) helpful."
   ]
  },
  {
   "cell_type": "code",
   "execution_count": 144,
   "metadata": {},
   "outputs": [
    {
     "name": "stdout",
     "output_type": "stream",
     "text": [
      "Average turns until elixir: 6.69\n"
     ]
    }
   ],
   "source": [
    "import numpy as np\n",
    "\n",
    "#in-class answer\n",
    "np.random.seed(42)\n",
    "\n",
    "#empty list\n",
    "times_until_elixir =[]\n",
    "#possible outcomes opening a box\n",
    "loot_box = ['elixir', 'nothing']\n",
    "\n",
    " \n",
    "# Loop through 100_000 loot box openings (experiment)\n",
    "for i in range(100_000):\n",
    "    turns = 0\n",
    "\n",
    "    # Opening of a loot box\n",
    "    while True:\n",
    "        opened_loot_box = np.random.choice(loot_box, p = [0.15, 0.85])\n",
    "        \n",
    "        turns += 1\n",
    "        \n",
    "        # If we find an elixir, add turns to the empty list called `times_until_elixir`\n",
    "        if opened_loot_box == 'elixir':\n",
    "            times_until_elixir.append(turns)\n",
    "            break\n",
    "print(f\"Average turns until elixir: {np.mean(times_until_elixir):.2f}\")"
   ]
  },
  {
   "cell_type": "code",
   "execution_count": 145,
   "metadata": {},
   "outputs": [
    {
     "name": "stdout",
     "output_type": "stream",
     "text": [
      "The 5th percentile of number of turns to find an elixir is 1.\n",
      "The 25th percentile of number of turns to find an elixir is 2.\n",
      "The 50th percentile of number of turns to find an elixir is 5.\n",
      "The 75th percentile of number of turns to find an elixir is 9.\n",
      "The 95th percentile of number of turns to find an elixir is 19.\n"
     ]
    }
   ],
   "source": [
    "# Share the 5th, 25th, 50th, 75th, and 95th percentiles.\n",
    "print(f\"The 5th percentile of number of turns to find an elixir is {int(np.percentile(times_until_elixir, 5))}.\")\n",
    "print(f\"The 25th percentile of number of turns to find an elixir is {int(np.percentile(times_until_elixir, 25))}.\")\n",
    "print(f\"The 50th percentile of number of turns to find an elixir is {int(np.percentile(times_until_elixir, 50))}.\")\n",
    "print(f\"The 75th percentile of number of turns to find an elixir is {int(np.percentile(times_until_elixir, 75))}.\")\n",
    "print(f\"The 95th percentile of number of turns to find an elixir is {int(np.percentile(times_until_elixir, 95))}.\")"
   ]
  },
  {
   "cell_type": "markdown",
   "metadata": {},
   "source": [
    "### Version 2\n",
    "\n",
    "After a substantial update to the game, suppose every loot box can be opened to reveal *one of four different* items:\n",
    "- magical elixir (occurs 1% of the time, most valuable)\n",
    "- golden pendant (occurs 9% of the time, valuable)\n",
    "- steel armor (occurs 30% of the time, semi-valuable)\n",
    "- bronze coin (occurs 60% of the time, least valuable)"
   ]
  },
  {
   "cell_type": "markdown",
   "metadata": {},
   "source": [
    "#### 6. Suppose you want repeat problem 5 above, but do that for the version 2 loot boxes so you can track how many loot boxes are needed to get each item? (e.g. You'd like to be able to say that on average it takes 10 trials to get a golden pendant, 3 trials to get steel armor, and so on.) What Python datatype is the best way to store this data? Why?"
   ]
  },
  {
   "cell_type": "code",
   "execution_count": 148,
   "metadata": {},
   "outputs": [],
   "source": [
    "#Ans: Dictionary due to key-value relationships (item: value)\n",
    "\n",
    "#Ans in-class \n",
    "# Dictionary - allows us to store key-value pairs\n",
    "# Each key could be the name of the new items (magical elixir, bronze coin, etc.)\n",
    "# Each value could be the simulated list of how many turns are needed to find each particular item\n",
    "\n",
    "# Each key could be the name of the new items (magical elixir, bronze coin, etc.)\n",
    "# Each value being the probability might be an option"
   ]
  },
  {
   "cell_type": "markdown",
   "metadata": {},
   "source": [
    "#### 7. Suppose you and your boss want to measure whether \"Version 2\" is better than \"Version 1.\" What metrics do you think are important to measure? (Your answers will vary here - use your judgment!)"
   ]
  },
  {
   "cell_type": "markdown",
   "metadata": {},
   "source": [
    "Income from the loot boxes bought by users. purchases per users per month.\n"
   ]
  },
  {
   "cell_type": "code",
   "execution_count": 151,
   "metadata": {},
   "outputs": [],
   "source": [
    "# Panda Key and Panda handler Air...answer in class\n",
    "\n",
    "# 1. Total revenue\n",
    "# 2. Purchase(dollar,time) per user in a month\n",
    "# 3. Time spent on playing the game\n",
    "# 4. Number of game invites (Accept and Download the game / Ignore / Decline)\n",
    "# 5. Revenue generated from new lead"
   ]
  },
  {
   "cell_type": "code",
   "execution_count": 152,
   "metadata": {},
   "outputs": [],
   "source": [
    "#other options from in-class\n",
    "# Options...\n",
    "# We will likely want to measure the daily revenue for version 2 to compare to version 1. (Ideally, daily revenue in version 2 is higher!)\n",
    "# We may want to look at the number of users, or number of users active every day (or every week). \n",
    "# We may want to see how many loot boxes are earned in a given day.\n",
    "# We may want to compare the proportion of loot boxes that are purchased (instead of earned) in versions 1 and 2.\n",
    "# We may want to look at the rate of growth of revenue or number of users.\n",
    "# We may want to look at the average length of time a user spends on the game in versions 1 and 2."
   ]
  }
 ],
 "metadata": {
  "kernelspec": {
   "display_name": "Python 3 (ipykernel)",
   "language": "python",
   "name": "python3"
  },
  "language_info": {
   "codemirror_mode": {
    "name": "ipython",
    "version": 3
   },
   "file_extension": ".py",
   "mimetype": "text/x-python",
   "name": "python",
   "nbconvert_exporter": "python",
   "pygments_lexer": "ipython3",
   "version": "3.12.4"
  }
 },
 "nbformat": 4,
 "nbformat_minor": 4
}
